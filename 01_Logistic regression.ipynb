{
 "cells": [
  {
   "cell_type": "markdown",
   "metadata": {},
   "source": [
    "### 1(a)"
   ]
  },
  {
   "cell_type": "markdown",
   "metadata": {},
   "source": [
    "Given,\n",
    "\\begin{align*}\n",
    "J(\\theta) = - \\frac{1}{m}\\sum_{k=1}^m \\mathrm{log}(h_{\\theta}(y^{(k)}x^{(k)})),\n",
    "\\end{align*}\n",
    "\\begin{align*}\n",
    "h_{\\theta}(x) = g(\\theta^Tx), \n",
    "\\end{align*}\n",
    "\\begin{align*}\n",
    "g(z) = \\frac{1}{1 + e^{-z}}\n",
    "\\end{align*}"
   ]
  },
  {
   "cell_type": "markdown",
   "metadata": {},
   "source": [
    "for one data point,\n",
    "\\begin{align*}\n",
    "J(\\theta) = - \\mathrm{log}(\\frac{1}{1 + e^{-y\\theta^Tx}})\\\\\n",
    "\\end{align*}\n",
    "\\begin{align*}\n",
    "\\frac{\\partial J}{\\partial \\theta_{i}} = -(1 + e^{-y\\theta^Tx}) (-1) \\frac{1}{(1 + e^{-y\\theta^Tx})^2} (e^{-y\\theta^Tx}) (-yx_{i})\\\\\n",
    "= (1 - \\frac{1}{1 + e^{-y\\theta^Tx}}) (-yx_{i}) = (g(z) - 1)  yx_{i}\n",
    "\\end{align*}"
   ]
  },
  {
   "cell_type": "markdown",
   "metadata": {},
   "source": [
    "Looks like the second order derivative depends on the derivative of $g(z)$, we want to calculate it first,\n",
    "\\begin{align*}\n",
    "\\frac{\\partial g(z)}{\\partial z} = \\frac{1}{(1 + e^{-z})^2} (e^{-z}) = \\frac{1}{(1 + e^{-z})} \\frac{e^{-z}}{(1 + e^{-z})} = g(z)(1-g(z))\n",
    "\\end{align*}"
   ]
  },
  {
   "cell_type": "markdown",
   "metadata": {},
   "source": [
    "therefore,the second order derivative of function $J$ for one data point is\n",
    "\\begin{align*}\n",
    "\\frac{\\partial J}{\\partial \\theta_i\\theta_j} =  g(z)(1-g(z))yx_ix_jy\n",
    "\\end{align*}"
   ]
  },
  {
   "cell_type": "markdown",
   "metadata": {},
   "source": [
    "For m data points, the secord order derivative - the $(i,j)$ element in the Hessian matrix $(H)$ is defined as,\n",
    "\\begin{align*}\n",
    "\\frac{\\partial J}{\\partial \\theta_i\\theta_j} =  \\frac{1}{m} \\sum_{k=1}^m g(z^{(k)}) (1-g(z^{(k)})) y^{(k)}x_i^{(k)}x_j^{(k)}y^{(k)}\n",
    "\\end{align*}"
   ]
  },
  {
   "cell_type": "markdown",
   "metadata": {},
   "source": [
    "To prove $H$ is positive semi-definite, we need to prove for any vector $z$, $z^THz \\ge 0$"
   ]
  },
  {
   "cell_type": "markdown",
   "metadata": {},
   "source": [
    "\\begin{align*}\n",
    "z^THz = \\sum_j\\sum_iz_{i}H_{ij}z_{j}  \\\\\n",
    "=\\sum_j\\sum_iz_{i}\\frac{1}{m} \\sum_{k=1}^m g(z^{(k)}) (1-g(z^{(k)})) y^{(k)}x_i^{(k)}x_j^{(k)}y^{(k)}z_{j} \n",
    "\\end{align*}\n",
    "given $y^{(k)} y^{(k)}$ is always equal to 1,\n",
    "\n",
    "\\begin{align*}\n",
    "=\\frac{1}{m} \\sum_{k=1}^m g(z^{(k)}) (1-g(z^{(k)})) \\sum_j\\sum_iz_{i} x_i^{(k)} x_j^{(k)}z_{j} \n",
    "\\end{align*}"
   ]
  },
  {
   "cell_type": "markdown",
   "metadata": {},
   "source": [
    "since,\n",
    "\\begin{align*}\n",
    "\\sum_j\\sum_iz_{i} x_i^{(k)} x_j^{(k)}z_{j} = (x^Tz)^2 \\ge0\n",
    "\\end{align*}\n",
    "\\begin{align*}\n",
    "0<g(z)<1, 0<1-g(z)<1\n",
    "\\end{align*}\n",
    "therefore,\n",
    "$z^THz \\ge 0$, H is PSD\n"
   ]
  },
  {
   "cell_type": "markdown",
   "metadata": {},
   "source": [
    "### 1(b)"
   ]
  },
  {
   "cell_type": "code",
   "execution_count": 15,
   "metadata": {},
   "outputs": [],
   "source": [
    "import pandas as pd\n",
    "import numpy as np"
   ]
  },
  {
   "cell_type": "code",
   "execution_count": 28,
   "metadata": {},
   "outputs": [],
   "source": [
    "df_X = pd.read_csv('./data/logistic_x.txt', sep='\\ +', header=None, engine='python')\n",
    "ys = pd.read_csv('./data/logistic_y.txt', sep='\\ +', header=None, engine='python')\n",
    "ys = ys.astype(int)"
   ]
  },
  {
   "cell_type": "code",
   "execution_count": 29,
   "metadata": {},
   "outputs": [],
   "source": [
    "X = np.hstack([np.ones((df_X.shape[0], 1)), df_X])"
   ]
  },
  {
   "cell_type": "code",
   "execution_count": 33,
   "metadata": {},
   "outputs": [
    {
     "data": {
      "text/plain": [
       "(99, 3)"
      ]
     },
     "execution_count": 33,
     "metadata": {},
     "output_type": "execute_result"
    }
   ],
   "source": [
    "X.shape"
   ]
  },
  {
   "cell_type": "code",
   "execution_count": 52,
   "metadata": {},
   "outputs": [],
   "source": [
    "y = np.array(ys[0])"
   ]
  },
  {
   "cell_type": "markdown",
   "metadata": {},
   "source": [
    "\\begin{align*}\n",
    "g(z) = \\frac{1}{1 + e^{-z}},\n",
    "\\end{align*}\n",
    "\n",
    "\\begin{align*}\n",
    "\\frac{\\partial J}{\\partial \\theta_{i}}\n",
    "= \\frac{1}{m}\\sum_{k=1}^{m}(g(z^{(k)}) - 1)  y^{(k)}x_i^{(k)},\n",
    "\\end{align*}\n",
    "\n",
    "\\begin{align*}\n",
    "\\frac{\\partial J}{\\partial \\theta_i\\theta_j} =  \\frac{1}{m} \\sum_{k=1}^m g(z^{(k)}) (1-g(z^{(k)})) x_i^{(k)}x_j^{(k)}\n",
    "\\end{align*}"
   ]
  },
  {
   "cell_type": "code",
   "execution_count": 107,
   "metadata": {},
   "outputs": [
    {
     "name": "stdout",
     "output_type": "stream",
     "text": [
      "[0. 0. 0.]\n",
      "[-1.50983811  0.43509696  0.62161752]\n",
      "[-2.21834632  0.64372727  0.95944716]\n",
      "[-2.55431051  0.74137714  1.13493588]\n",
      "[-2.61847133  0.75979248  1.1707512 ]\n",
      "[-2.62050954  0.76037096  1.17194549]\n",
      "[-2.6205116   0.76037154  1.17194674]\n"
     ]
    }
   ],
   "source": [
    "#initial setup\n",
    "theta = np.zeros(X.shape[1])\n",
    "epsilon = 1e-6\n",
    "dim = X.shape[1]\n",
    "diff = 20 #initial random number as long as ge epsilon\n",
    "\n",
    "while diff > epsilon:\n",
    "    #iterative variables\n",
    "    print(theta)\n",
    "    z = y * X.dot(theta)\n",
    "    gz = 1 / (1 + np.exp(-z))\n",
    "    #reshape here make a row vector to column vector\n",
    "    jprime = np.mean((gz - 1).reshape(-1,1) * y.reshape(-1,1) * X, axis = 0)\n",
    "    H = np.zeros((dim,dim))\n",
    "    for i in range(dim):\n",
    "        for j in range(dim):\n",
    "            H[i,j] = np.mean(gz.reshape(-1,1) * (1 - gz).reshape(-1,1) * X[:,i].reshape(-1,1) * X[:,j].reshape(-1,1), axis = 0)\n",
    "    #take iterative variables and feed into Newton's method\n",
    "    delta = np.linalg.inv(H).dot(jprime)\n",
    "    theta_old = theta.copy()\n",
    "    theta -= delta\n",
    "    #stopping when diff <= epsilon\n",
    "    diff = np.sum(abs(theta_old - theta))\n",
    "    "
   ]
  },
  {
   "cell_type": "code",
   "execution_count": null,
   "metadata": {},
   "outputs": [],
   "source": []
  }
 ],
 "metadata": {
  "kernelspec": {
   "display_name": "Python 3",
   "language": "python",
   "name": "python3"
  },
  "language_info": {
   "codemirror_mode": {
    "name": "ipython",
    "version": 3
   },
   "file_extension": ".py",
   "mimetype": "text/x-python",
   "name": "python",
   "nbconvert_exporter": "python",
   "pygments_lexer": "ipython3",
   "version": "3.6.7"
  }
 },
 "nbformat": 4,
 "nbformat_minor": 2
}
