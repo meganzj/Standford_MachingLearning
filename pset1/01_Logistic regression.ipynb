{
 "cells": [
  {
   "cell_type": "markdown",
   "metadata": {},
   "source": [
    "### 1(a)"
   ]
  },
  {
   "cell_type": "markdown",
   "metadata": {},
   "source": [
    "Given,"
   ]
  },
  {
   "cell_type": "markdown",
   "metadata": {},
   "source": [
    "\\begin{align*}\n",
    "J(\\theta) = - \\frac{1}{m}\\sum_{k=1}^m \\mathrm{log}(h_{\\theta}(y^{(k)}x^{(k)})),\n",
    "\\end{align*}\n",
    "\\begin{align*}\n",
    "h_{\\theta}(x) = g(\\theta^Tx), \n",
    "\\end{align*}\n",
    "\\begin{align*}\n",
    "g(z) = \\frac{1}{1 + e^{-z}}\n",
    "\\end{align*}"
   ]
  },
  {
   "cell_type": "markdown",
   "metadata": {},
   "source": [
    "for one data point,"
   ]
  },
  {
   "cell_type": "markdown",
   "metadata": {},
   "source": [
    "\\begin{align*}\n",
    "J(\\theta) = - \\mathrm{log}(\\frac{1}{1 + e^{-y\\theta^Tx}})\\\\\n",
    "\\end{align*}\n",
    "\\begin{align*}\n",
    "\\frac{\\partial J}{\\partial \\theta_{i}} = -(1 + e^{-y\\theta^Tx}) (-1) \\frac{1}{(1 + e^{-y\\theta^Tx})^2} (e^{-y\\theta^Tx}) (-yx_{i})\\\\\n",
    "= (1 - \\frac{1}{1 + e^{-y\\theta^Tx}}) (-yx_{i}) = (g(z) - 1)  yx_{i}\n",
    "\\end{align*}"
   ]
  },
  {
   "cell_type": "markdown",
   "metadata": {},
   "source": [
    "Looks like the second order derivative depends on the derivative of $g(z)$, we want to calculate it first,"
   ]
  },
  {
   "cell_type": "markdown",
   "metadata": {},
   "source": [
    "\\begin{align*}\n",
    "\\frac{\\partial g(z)}{\\partial z} = \\frac{1}{(1 + e^{-z})^2} (e^{-z}) = \\frac{1}{(1 + e^{-z})} \\frac{e^{-z}}{(1 + e^{-z})} = g(z)(1-g(z))\n",
    "\\end{align*}"
   ]
  },
  {
   "cell_type": "markdown",
   "metadata": {},
   "source": [
    "therefore,the second order derivative of function $J$ for one data point is\n"
   ]
  },
  {
   "cell_type": "markdown",
   "metadata": {},
   "source": [
    "\\begin{align*}\n",
    "\\frac{\\partial J}{\\partial \\theta_i\\theta_j} =  g(z)(1-g(z))yx_ix_jy\n",
    "\\end{align*}"
   ]
  },
  {
   "cell_type": "markdown",
   "metadata": {},
   "source": [
    "For m data points, the secord order derivative - the $(i,j)$ element in the Hessian matrix $(H)$ is defined as,\n"
   ]
  },
  {
   "cell_type": "markdown",
   "metadata": {},
   "source": [
    "\\begin{align*}\n",
    "\\frac{\\partial J}{\\partial \\theta_i\\theta_j} =  \\frac{1}{m} \\sum_{k=1}^m g(z^{(k)}) (1-g(z^{(k)})) y^{(k)}x_i^{(k)}x_j^{(k)}y^{(k)}\n",
    "\\end{align*}"
   ]
  },
  {
   "cell_type": "markdown",
   "metadata": {},
   "source": [
    "To prove $H$ is positive semi-definite, we need to prove for any vector $z$, $z^THz \\ge 0$"
   ]
  },
  {
   "cell_type": "markdown",
   "metadata": {},
   "source": [
    "\\begin{align*}\n",
    "z^THz = \\sum_j\\sum_iz_{i}H_{ij}z_{j}  \\\\\n",
    "=\\sum_j\\sum_iz_{i}\\frac{1}{m} \\sum_{k=1}^m g(z^{(k)}) (1-g(z^{(k)})) y^{(k)}x_i^{(k)}x_j^{(k)}y^{(k)}z_{j} \n",
    "\\end{align*}\n"
   ]
  },
  {
   "cell_type": "markdown",
   "metadata": {},
   "source": [
    "given $y^{(k)} y^{(k)}$ is always equal to 1,\n",
    "\n"
   ]
  },
  {
   "cell_type": "markdown",
   "metadata": {},
   "source": [
    "\\begin{align*}\n",
    "=\\frac{1}{m} \\sum_{k=1}^m g(z^{(k)}) (1-g(z^{(k)})) \\sum_j\\sum_iz_{i} x_i^{(k)} x_j^{(k)}z_{j} \n",
    "\\end{align*}"
   ]
  },
  {
   "cell_type": "markdown",
   "metadata": {},
   "source": [
    "since,\n"
   ]
  },
  {
   "cell_type": "markdown",
   "metadata": {},
   "source": [
    "\\begin{align*}\n",
    "\\sum_j\\sum_iz_{i} x_i^{(k)} x_j^{(k)}z_{j} = (x^Tz)^2 \\ge0\n",
    "\\end{align*}\n",
    "\\begin{align*}\n",
    "0<g(z)<1, 0<1-g(z)<1\n",
    "\\end{align*}\n"
   ]
  },
  {
   "cell_type": "markdown",
   "metadata": {},
   "source": [
    "therefore,\n",
    "$z^THz \\ge 0$, H is PSD\n"
   ]
  },
  {
   "cell_type": "markdown",
   "metadata": {},
   "source": [
    "### 1(b)"
   ]
  },
  {
   "cell_type": "code",
   "execution_count": 2,
   "metadata": {},
   "outputs": [],
   "source": [
    "import pandas as pd\n",
    "import numpy as np"
   ]
  },
  {
   "cell_type": "code",
   "execution_count": 3,
   "metadata": {},
   "outputs": [],
   "source": [
    "df_X = pd.read_csv('./data/logistic_x.txt', sep='\\ +', header=None, engine='python')\n",
    "ys = pd.read_csv('./data/logistic_y.txt', sep='\\ +', header=None, engine='python')\n",
    "ys = ys.astype(int)"
   ]
  },
  {
   "cell_type": "code",
   "execution_count": 4,
   "metadata": {},
   "outputs": [],
   "source": [
    "X = np.hstack([np.ones((df_X.shape[0], 1)), df_X])"
   ]
  },
  {
   "cell_type": "code",
   "execution_count": 5,
   "metadata": {},
   "outputs": [
    {
     "data": {
      "text/plain": [
       "(99, 3)"
      ]
     },
     "execution_count": 5,
     "metadata": {},
     "output_type": "execute_result"
    }
   ],
   "source": [
    "X.shape"
   ]
  },
  {
   "cell_type": "code",
   "execution_count": 6,
   "metadata": {},
   "outputs": [],
   "source": [
    "y = np.array(ys[0])"
   ]
  },
  {
   "cell_type": "markdown",
   "metadata": {},
   "source": [
    "\\begin{align*}\n",
    "g(z) = \\frac{1}{1 + e^{-z}},\n",
    "\\end{align*}\n",
    "\n",
    "\\begin{align*}\n",
    "\\frac{\\partial J}{\\partial \\theta_{i}}\n",
    "= \\frac{1}{m}\\sum_{k=1}^{m}(g(z^{(k)}) - 1)  y^{(k)}x_i^{(k)},\n",
    "\\end{align*}\n",
    "\n",
    "\\begin{align*}\n",
    "\\frac{\\partial J}{\\partial \\theta_i\\theta_j} =  \\frac{1}{m} \\sum_{k=1}^m g(z^{(k)}) (1-g(z^{(k)})) x_i^{(k)}x_j^{(k)}\n",
    "\\end{align*}"
   ]
  },
  {
   "cell_type": "code",
   "execution_count": 7,
   "metadata": {},
   "outputs": [
    {
     "name": "stdout",
     "output_type": "stream",
     "text": [
      "[0. 0. 0.]\n",
      "[-1.50983811  0.43509696  0.62161752]\n",
      "[-2.21834632  0.64372727  0.95944716]\n",
      "[-2.55431051  0.74137714  1.13493588]\n",
      "[-2.61847133  0.75979248  1.1707512 ]\n",
      "[-2.62050954  0.76037096  1.17194549]\n",
      "[-2.6205116   0.76037154  1.17194674]\n"
     ]
    }
   ],
   "source": [
    "#initial setup\n",
    "theta = np.zeros(X.shape[1])\n",
    "epsilon = 1e-6\n",
    "dim = X.shape[1]\n",
    "diff = 20 #initial random number as long as ge epsilon\n",
    "\n",
    "while diff > epsilon:\n",
    "    #iterative variables\n",
    "    print(theta)\n",
    "    z = y * X.dot(theta)\n",
    "    gz = 1 / (1 + np.exp(-z))\n",
    "    #reshape here make a row vector to column vector\n",
    "    jprime = np.mean((gz - 1).reshape(-1,1) * y.reshape(-1,1) * X, axis = 0)\n",
    "    H = np.zeros((dim,dim))\n",
    "    for i in range(dim):\n",
    "        for j in range(dim):\n",
    "            H[i,j] = np.mean(gz.reshape(-1,1) * (1 - gz).reshape(-1,1) * X[:,i].reshape(-1,1) * X[:,j].reshape(-1,1), axis = 0)\n",
    "    #take iterative variables and feed into Newton's method\n",
    "    delta = np.linalg.inv(H).dot(jprime)\n",
    "    theta_old = theta.copy()\n",
    "    theta -= delta\n",
    "    #stopping when diff <= epsilon\n",
    "    diff = np.sum(abs(theta_old - theta))\n",
    "    "
   ]
  },
  {
   "cell_type": "code",
   "execution_count": 11,
   "metadata": {},
   "outputs": [],
   "source": [
    "theta_T = theta.reshape(-1,1)"
   ]
  },
  {
   "cell_type": "code",
   "execution_count": 17,
   "metadata": {},
   "outputs": [],
   "source": [
    "y_hat = 1 / (1 + np.exp(-X.dot(theta_T)))"
   ]
  },
  {
   "cell_type": "code",
   "execution_count": 19,
   "metadata": {},
   "outputs": [
    {
     "data": {
      "text/plain": [
       "(99, 1)"
      ]
     },
     "execution_count": 19,
     "metadata": {},
     "output_type": "execute_result"
    }
   ],
   "source": [
    "y_hat.shape"
   ]
  },
  {
   "cell_type": "code",
   "execution_count": 21,
   "metadata": {},
   "outputs": [
    {
     "data": {
      "text/plain": [
       "(99, 3)"
      ]
     },
     "execution_count": 21,
     "metadata": {},
     "output_type": "execute_result"
    }
   ],
   "source": [
    "X.shape"
   ]
  },
  {
   "cell_type": "markdown",
   "metadata": {},
   "source": [
    "### 1(c)"
   ]
  },
  {
   "cell_type": "code",
   "execution_count": 26,
   "metadata": {},
   "outputs": [],
   "source": [
    "import matplotlib.pyplot as plt"
   ]
  },
  {
   "cell_type": "code",
   "execution_count": 23,
   "metadata": {},
   "outputs": [],
   "source": [
    "df_X['y'] = ys[0]"
   ]
  },
  {
   "cell_type": "code",
   "execution_count": 24,
   "metadata": {},
   "outputs": [
    {
     "data": {
      "text/html": [
       "<div>\n",
       "<style scoped>\n",
       "    .dataframe tbody tr th:only-of-type {\n",
       "        vertical-align: middle;\n",
       "    }\n",
       "\n",
       "    .dataframe tbody tr th {\n",
       "        vertical-align: top;\n",
       "    }\n",
       "\n",
       "    .dataframe thead th {\n",
       "        text-align: right;\n",
       "    }\n",
       "</style>\n",
       "<table border=\"1\" class=\"dataframe\">\n",
       "  <thead>\n",
       "    <tr style=\"text-align: right;\">\n",
       "      <th></th>\n",
       "      <th>0</th>\n",
       "      <th>1</th>\n",
       "      <th>y</th>\n",
       "    </tr>\n",
       "  </thead>\n",
       "  <tbody>\n",
       "    <tr>\n",
       "      <th>0</th>\n",
       "      <td>1.343250</td>\n",
       "      <td>-1.331148</td>\n",
       "      <td>-1</td>\n",
       "    </tr>\n",
       "    <tr>\n",
       "      <th>1</th>\n",
       "      <td>1.820553</td>\n",
       "      <td>-0.634668</td>\n",
       "      <td>-1</td>\n",
       "    </tr>\n",
       "    <tr>\n",
       "      <th>2</th>\n",
       "      <td>0.986321</td>\n",
       "      <td>-1.888576</td>\n",
       "      <td>-1</td>\n",
       "    </tr>\n",
       "    <tr>\n",
       "      <th>3</th>\n",
       "      <td>1.944373</td>\n",
       "      <td>-1.635452</td>\n",
       "      <td>-1</td>\n",
       "    </tr>\n",
       "    <tr>\n",
       "      <th>4</th>\n",
       "      <td>0.976734</td>\n",
       "      <td>-1.353315</td>\n",
       "      <td>-1</td>\n",
       "    </tr>\n",
       "  </tbody>\n",
       "</table>\n",
       "</div>"
      ],
      "text/plain": [
       "          0         1  y\n",
       "0  1.343250 -1.331148 -1\n",
       "1  1.820553 -0.634668 -1\n",
       "2  0.986321 -1.888576 -1\n",
       "3  1.944373 -1.635452 -1\n",
       "4  0.976734 -1.353315 -1"
      ]
     },
     "execution_count": 24,
     "metadata": {},
     "output_type": "execute_result"
    }
   ],
   "source": [
    "df_X.head()"
   ]
  },
  {
   "cell_type": "code",
   "execution_count": 42,
   "metadata": {},
   "outputs": [],
   "source": [
    "df_X.columns = ['x1','x2','y']"
   ]
  },
  {
   "cell_type": "code",
   "execution_count": 43,
   "metadata": {},
   "outputs": [
    {
     "data": {
      "text/plain": [
       "[<matplotlib.lines.Line2D at 0x1224d1208>]"
      ]
     },
     "execution_count": 43,
     "metadata": {},
     "output_type": "execute_result"
    },
    {
     "data": {
      "image/png": "[encoded data removed]",
      "text/plain": [
       "<Figure size 432x288 with 1 Axes>"
      ]
     },
     "metadata": {},
     "output_type": "display_data"
    }
   ],
   "source": [
    "ax = plt.axes()\n",
    "df_X.query('y == -1').plot.scatter(x='x1', y='x2', ax=ax, color='blue')\n",
    "df_X.query('y == 1').plot.scatter(x='x1', y='x2', ax=ax, color='red')\n",
    "#condense the 3-d view to 2d\n",
    "#the y axis now represents x2, and x axis represents x1, color represents y\n",
    "x1 = X[:,1]\n",
    "x2 = (theta[0] + theta[1] * x1) / -theta[2]\n",
    "plt.plot(x1, x2,  lw=0.5)"
   ]
  },
  {
   "cell_type": "code",
   "execution_count": 50,
   "metadata": {},
   "outputs": [
    {
     "data": {
      "text/plain": [
       "array([0.5, 0.5, 0.5, 0.5, 0.5, 0.5, 0.5, 0.5, 0.5, 0.5, 0.5, 0.5, 0.5,\n",
       "       0.5, 0.5, 0.5, 0.5, 0.5, 0.5, 0.5, 0.5, 0.5, 0.5, 0.5, 0.5, 0.5,\n",
       "       0.5, 0.5, 0.5, 0.5, 0.5, 0.5, 0.5, 0.5, 0.5, 0.5, 0.5, 0.5, 0.5,\n",
       "       0.5, 0.5, 0.5, 0.5, 0.5, 0.5, 0.5, 0.5, 0.5, 0.5, 0.5, 0.5, 0.5,\n",
       "       0.5, 0.5, 0.5, 0.5, 0.5, 0.5, 0.5, 0.5, 0.5, 0.5, 0.5, 0.5, 0.5,\n",
       "       0.5, 0.5, 0.5, 0.5, 0.5, 0.5, 0.5, 0.5, 0.5, 0.5, 0.5, 0.5, 0.5,\n",
       "       0.5, 0.5, 0.5, 0.5, 0.5, 0.5, 0.5, 0.5, 0.5, 0.5, 0.5, 0.5, 0.5,\n",
       "       0.5, 0.5, 0.5, 0.5, 0.5, 0.5, 0.5, 0.5])"
      ]
     },
     "execution_count": 50,
     "metadata": {},
     "output_type": "execute_result"
    }
   ],
   "source": [
    "#y value on the line always equal to 0.5\n",
    "1/(1+ np.exp(-(theta[0] + theta[1] * x1  +theta[2] * x2)))"
   ]
  },
  {
   "cell_type": "code",
   "execution_count": null,
   "metadata": {},
   "outputs": [],
   "source": []
  }
 ],
 "metadata": {
  "kernelspec": {
   "display_name": "Python 3",
   "language": "python",
   "name": "python3"
  },
  "language_info": {
   "codemirror_mode": {
    "name": "ipython",
    "version": 3
   },
   "file_extension": ".py",
   "mimetype": "text/x-python",
   "name": "python",
   "nbconvert_exporter": "python",
   "pygments_lexer": "ipython3",
   "version": "3.6.7"
  }
 },
 "nbformat": 4,
 "nbformat_minor": 2
}
