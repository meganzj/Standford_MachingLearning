{
 "cells": [
  {
   "cell_type": "markdown",
   "metadata": {},
   "source": [
    "### 2(a)"
   ]
  },
  {
   "cell_type": "markdown",
   "metadata": {},
   "source": [
    "exponential family, $p(y;\\eta) = b(y) \\exp\\big(\\eta T(y) - a(\\eta)\\big) $"
   ]
  },
  {
   "cell_type": "markdown",
   "metadata": {},
   "source": [
    "\\begin{align*}\n",
    "p(y; \\lambda) = \\frac{e^{-\\lambda}\\lambda^y}{y!}\n",
    "\\end{align*}\n",
    "\\begin{align*}\n",
    "= \\frac{1}{y!}exp(log(e^{-\\lambda}\\lambda^y))\n",
    "\\end{align*}\n",
    "\n",
    "\\begin{align*}\n",
    "= \\frac{1}{y!}exp(-\\lambda + ylog\\lambda)\n",
    "\\end{align*}"
   ]
  },
  {
   "cell_type": "markdown",
   "metadata": {},
   "source": [
    "Therefore,\n",
    "\\begin{align*}\n",
    "b(y) = \\frac{1}{y!}\n",
    "\\end{align*}\n",
    "\\begin{align*}\n",
    "T(y) = y\n",
    "\\end{align*}\n",
    "\\begin{align*}\n",
    "\\eta = log\\lambda\n",
    "\\end{align*}\n",
    "\\begin{align*}\n",
    "a(\\eta) = \\lambda\n",
    "\\end{align*}"
   ]
  },
  {
   "cell_type": "markdown",
   "metadata": {},
   "source": [
    "### 2(b)"
   ]
  },
  {
   "cell_type": "markdown",
   "metadata": {},
   "source": [
    "\\begin{align*}\n",
    "\\eta = \\theta^TX\\\\\n",
    "\\lambda = exp(\\eta)\n",
    "\\end{align*}\n",
    "\n",
    "\\begin{align*}\n",
    "\\lambda = E[T(y)|X;\\eta] = exp(\\theta^TX)\\\\\n",
    "\\end{align*}"
   ]
  },
  {
   "cell_type": "markdown",
   "metadata": {},
   "source": [
    "### 2(c)"
   ]
  },
  {
   "cell_type": "markdown",
   "metadata": {},
   "source": [
    "for one data point log-likelihood is,\n",
    "\\begin{align*}\n",
    "l(\\theta) = log(\\frac{1}{y!}) - \\lambda + ylog\\lambda\n",
    "\\end{align*}\n",
    "\\begin{align*}\n",
    "=log(\\frac{1}{y!}) - e^{\\theta^Tx} + y\\theta^Tx\n",
    "\\end{align*}"
   ]
  },
  {
   "cell_type": "markdown",
   "metadata": {},
   "source": [
    "\\begin{align*}\n",
    "\\frac{\\partial l(\\theta)}{\\partial \\theta_{j}} = 0 - e^{\\theta^Tx}x_{j} + yx_{j}\\\\\n",
    "= (y-e^{\\theta^Tx})x_{j}\n",
    "\\end{align*}"
   ]
  },
  {
   "cell_type": "markdown",
   "metadata": {},
   "source": [
    " stochastic gradient ascent rule is given as,\n",
    "\\begin{align*}\n",
    "\\theta_{j} := \\theta_{j} + \\alpha (y^{(i)}-e^{\\theta^Tx^{(i)}})x_{j}^{(i)}\n",
    "\\end{align*}"
   ]
  },
  {
   "cell_type": "markdown",
   "metadata": {},
   "source": [
    "### 2(d)"
   ]
  },
  {
   "cell_type": "code",
   "execution_count": null,
   "metadata": {},
   "outputs": [],
   "source": []
  }
 ],
 "metadata": {
  "kernelspec": {
   "display_name": "Python 3",
   "language": "python",
   "name": "python3"
  },
  "language_info": {
   "codemirror_mode": {
    "name": "ipython",
    "version": 3
   },
   "file_extension": ".py",
   "mimetype": "text/x-python",
   "name": "python",
   "nbconvert_exporter": "python",
   "pygments_lexer": "ipython3",
   "version": "3.6.7"
  }
 },
 "nbformat": 4,
 "nbformat_minor": 2
}
